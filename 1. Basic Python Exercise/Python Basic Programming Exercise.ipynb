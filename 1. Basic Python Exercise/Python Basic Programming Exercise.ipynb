{
 "cells": [
  {
   "cell_type": "markdown",
   "metadata": {},
   "source": [
    "## Python Basic Programming Exercises"
   ]
  },
  {
   "cell_type": "raw",
   "metadata": {},
   "source": [
    "Q1: What is the output of following expression\n",
    "    5 + 4 * 9 % (3 + 1) / 6 - 1"
   ]
  },
  {
   "cell_type": "code",
   "execution_count": 8,
   "metadata": {},
   "outputs": [
    {
     "data": {
      "text/plain": [
       "4.0"
      ]
     },
     "execution_count": 8,
     "metadata": {},
     "output_type": "execute_result"
    }
   ],
   "source": [
    "5 + 4 * 9 % (3 + 1) / 6 - 1"
   ]
  },
  {
   "cell_type": "raw",
   "metadata": {},
   "source": [
    "Q2: Write a program to check if a Number is Odd or Even. Take number as a input from user at runtime."
   ]
  },
  {
   "cell_type": "code",
   "execution_count": 9,
   "metadata": {},
   "outputs": [
    {
     "name": "stdout",
     "output_type": "stream",
     "text": [
      "We will check for the number is Even or Odd\n",
      "Please Enter the number : 33\n",
      "The number is ODD\n"
     ]
    }
   ],
   "source": [
    "print ('We will check for the number is Even or Odd')\n",
    "x = int(input(f'Please Enter the number : '))\n",
    "\n",
    "if x == 0:\n",
    "    print ('Invalid Input')\n",
    "elif x % 2 != 0:\n",
    "    print ('The number is ODD')\n",
    "else :\n",
    "    print ('The number is EVEN')"
   ]
  },
  {
   "cell_type": "raw",
   "metadata": {},
   "source": [
    "Q3: Write a program to display the multiplication table by taking a number as input. \n",
    "    [Hint : Use print statement inside of a loop]"
   ]
  },
  {
   "cell_type": "code",
   "execution_count": 10,
   "metadata": {},
   "outputs": [
    {
     "name": "stdout",
     "output_type": "stream",
     "text": [
      "Enter the number to get the multiplication table : 9\n",
      "Multiplication table\n",
      "9.0 X 1 = 9.0\n",
      "9.0 X 2 = 18.0\n",
      "9.0 X 3 = 27.0\n",
      "9.0 X 4 = 36.0\n",
      "9.0 X 5 = 45.0\n",
      "9.0 X 6 = 54.0\n",
      "9.0 X 7 = 63.0\n",
      "9.0 X 8 = 72.0\n",
      "9.0 X 9 = 81.0\n",
      "9.0 X 10 = 90.0\n"
     ]
    }
   ],
   "source": [
    "x = float(input(f'Enter the number to get the multiplication table : '))\n",
    "print ('Multiplication table')\n",
    "\n",
    "for i in range (1,11):\n",
    "    print (f'{x} X {i} = {x*i}')"
   ]
  },
  {
   "cell_type": "raw",
   "metadata": {
    "vscode": {
     "languageId": "raw"
    }
   },
   "source": [
    "Q4: Write a program which will find all numbers between 2000 and 3200 which are divisible by 7 but are not a multiple of 5.\n",
    " \n",
    "Note: The numbers obtained should be printed in a comma-separated sequence on a single line."
   ]
  },
  {
   "cell_type": "code",
   "execution_count": 11,
   "metadata": {},
   "outputs": [
    {
     "name": "stdout",
     "output_type": "stream",
     "text": [
      "2002,2009,2016,2023,2037,2044,2051,2058,2072,2079,2086,2093,2107,2114,2121,2128,2142,2149,2156,2163,2177,2184,2191,2198,2212,2219,2226,2233,2247,2254,2261,2268,2282,2289,2296,2303,2317,2324,2331,2338,2352,2359,2366,2373,2387,2394,2401,2408,2422,2429,2436,2443,2457,2464,2471,2478,2492,2499,2506,2513,2527,2534,2541,2548,2562,2569,2576,2583,2597,2604,2611,2618,2632,2639,2646,2653,2667,2674,2681,2688,2702,2709,2716,2723,2737,2744,2751,2758,2772,2779,2786,2793,2807,2814,2821,2828,2842,2849,2856,2863,2877,2884,2891,2898,2912,2919,2926,2933,2947,2954,2961,2968,2982,2989,2996,3003,3017,3024,3031,3038,3052,3059,3066,3073,3087,3094,3101,3108,3122,3129,3136,3143,3157,3164,3171,3178,3192,3199\n"
     ]
    }
   ],
   "source": [
    "x = []\n",
    "\n",
    "for i in range (2000,3201):\n",
    "    if i % 7 == 0 and i % 5 != 0:\n",
    "        x.append(str(i))\n",
    "print (\",\".join(x))"
   ]
  },
  {
   "cell_type": "raw",
   "metadata": {},
   "source": [
    "Q5: Count the elements of each datatype inside the list and display in output\n",
    "    [2, 3, 'Py', '10', 1, 'SQL', 5.5, True, 3, 'John', None, 7]    "
   ]
  },
  {
   "cell_type": "code",
   "execution_count": 12,
   "metadata": {},
   "outputs": [
    {
     "name": "stdout",
     "output_type": "stream",
     "text": [
      "Count of Integers : 6\n",
      "Count of Float : 1\n",
      "Count of String : 4\n",
      "Count of Boolean : 0\n",
      "Count of Others : 1\n"
     ]
    }
   ],
   "source": [
    "x= [2, 3, 'Py', '10', 1, 'SQL', 5.5, True, 3, 'John', None, 7]    \n",
    "\n",
    "int_count = 0\n",
    "float_count = 0\n",
    "bool_count = 0\n",
    "str_count = 0\n",
    "none_count = 0\n",
    "\n",
    "for i in x:\n",
    "    if isinstance (i, int):\n",
    "        int_count += 1\n",
    "    elif isinstance (i, float):\n",
    "        float_count += 1\n",
    "    elif isinstance (i, str):\n",
    "        str_count += 1\n",
    "    elif isinstance (i, bool):\n",
    "        bool_count += 1\n",
    "    elif i is None:\n",
    "        none_count += 1\n",
    "\n",
    "print (f'Count of Integers : {int_count}')\n",
    "print (f'Count of Float : {float_count}')\n",
    "print (f'Count of String : {str_count}')\n",
    "print (f'Count of Boolean : {bool_count}')\n",
    "print (f'Count of Others : {none_count}')"
   ]
  },
  {
   "cell_type": "raw",
   "metadata": {},
   "source": [
    "Q6: Add all values from the list with numeric datatypes \n",
    "    [2, 3, 'Py', '10', 1, 'SQL', 5.5, True, 3, 'John', None, 7] "
   ]
  },
  {
   "cell_type": "code",
   "execution_count": 13,
   "metadata": {},
   "outputs": [
    {
     "name": "stdout",
     "output_type": "stream",
     "text": [
      "Total Sum of the numeric data types in the list is : 22.5\n"
     ]
    }
   ],
   "source": [
    "x = [2, 3, 'Py', '10', 1, 'SQL', 5.5, True, 3, 'John', None, 7] \n",
    "\n",
    "total_sum = 0\n",
    "for i in x:\n",
    "    if isinstance (i,(int,float)):\n",
    "        total_sum += i\n",
    "        \n",
    "print (f'Total Sum of the numeric data types in the list is : {total_sum}')"
   ]
  },
  {
   "cell_type": "raw",
   "metadata": {},
   "source": [
    "Q7: Concat all str datatypes with hyphen as a delimiter\n",
    "    [2, 3, 'Py', '10', 1, 'SQL', 5.5, True, 3, 'John', None, 7] "
   ]
  },
  {
   "cell_type": "code",
   "execution_count": 14,
   "metadata": {},
   "outputs": [
    {
     "name": "stdout",
     "output_type": "stream",
     "text": [
      "Concat String : Py-10-SQL-John\n"
     ]
    }
   ],
   "source": [
    "x = [2, 3, 'Py', '10', 1, 'SQL', 5.5, True, 3, 'John', None, 7]\n",
    "\n",
    "concat_str = \"\"\n",
    "\n",
    "for i in x:\n",
    "    if isinstance (i, str):\n",
    "        if concat_str : \n",
    "             concat_str += \"-\"\n",
    "        concat_str += i\n",
    "\n",
    "print (f'Concat String : {concat_str}')\n"
   ]
  },
  {
   "cell_type": "raw",
   "metadata": {},
   "source": [
    "Q8: Write a UDF that takes list as input and returns sum of all numbers \n",
    "    (exclude bool) and count of all str \n",
    "    [2, 3, 'Py', '10', 1, 'SQL', 5.5, True, 3, 'John', None, 7] \n",
    "    \n",
    "Hint:\n",
    "-----\n",
    "def my_func:\n",
    "    # your code\n",
    "        \n",
    "my_func(l1)\n",
    "# output --> {'Sum': xxx, 'Count_of_Strs': xxx}"
   ]
  },
  {
   "cell_type": "code",
   "execution_count": 15,
   "metadata": {},
   "outputs": [
    {
     "name": "stdout",
     "output_type": "stream",
     "text": [
      "Enter a list (in python list format) : [2, 3, 'Py', '10', 1, 'SQL', 5.5, True, 3, 'John', None, 7] \n",
      "{'Sum of all numbers': 22.5, 'Count of string': 4}\n"
     ]
    }
   ],
   "source": [
    "def udf1 (x):\n",
    "    addition = 0\n",
    "    count_of_str = 0\n",
    "    \n",
    "    for i in x:\n",
    "        \n",
    "        if isinstance (i, (int,float)):\n",
    "            addition += i\n",
    "            \n",
    "        elif  isinstance (i, str):\n",
    "            count_of_str += 1\n",
    "            \n",
    "    result = { \n",
    "        'Sum of all numbers' : addition ,\n",
    "        'Count of string' : count_of_str\n",
    "    }\n",
    "    \n",
    "    return result\n",
    "\n",
    "x = eval (input ('Enter a list (in python list format) : '))\n",
    "output = udf1 (x)\n",
    "print (output)\n",
    "    "
   ]
  },
  {
   "cell_type": "raw",
   "metadata": {},
   "source": [
    "Q9: Get only odd numbers from the following list and store the numbers in new list\n",
    "    li = [5, 7, 22, 97, 54, 62, 77, 23, 73, 61]\n",
    "\n",
    "    i. Use loops to get the answer\n",
    "   ii. Use list comprehensions\n",
    "  iii. Use lambda function with filter"
   ]
  },
  {
   "cell_type": "code",
   "execution_count": 16,
   "metadata": {},
   "outputs": [
    {
     "name": "stdout",
     "output_type": "stream",
     "text": [
      "Given list is : [5, 7, 22, 97, 54, 62, 77, 23, 73, 61]\n",
      "Odd Numbers using LOOPS\n",
      "[5, 7, 97, 77, 23, 73, 61]\n"
     ]
    }
   ],
   "source": [
    "li = [5, 7, 22, 97, 54, 62, 77, 23, 73, 61]\n",
    "print (f'Given list is : {li}')\n",
    "print (f'Odd Numbers using LOOPS')\n",
    "\n",
    "loop_odd_numbers = []\n",
    "for i in li:\n",
    "    if i % 2 != 0:\n",
    "        loop_odd_numbers.append(i)\n",
    "        \n",
    "print (loop_odd_numbers)"
   ]
  },
  {
   "cell_type": "code",
   "execution_count": 17,
   "metadata": {},
   "outputs": [
    {
     "name": "stdout",
     "output_type": "stream",
     "text": [
      "Given list is : [5, 7, 22, 97, 54, 62, 77, 23, 73, 61]\n",
      "Odd Numbers using LIST COMPREHENSIONS\n",
      "[5, 7, 97, 77, 23, 73, 61]\n"
     ]
    }
   ],
   "source": [
    "li = [5, 7, 22, 97, 54, 62, 77, 23, 73, 61]\n",
    "print (f'Given list is : {li}')\n",
    "print (f'Odd Numbers using LIST COMPREHENSIONS')\n",
    "\n",
    "list_compre = [i for i in li if i % 2 != 0]\n",
    "print (list_compre)"
   ]
  },
  {
   "cell_type": "code",
   "execution_count": 18,
   "metadata": {},
   "outputs": [
    {
     "name": "stdout",
     "output_type": "stream",
     "text": [
      "Given list is : [5, 7, 22, 97, 54, 62, 77, 23, 73, 61]\n",
      "Odd Numbers using LAMBDA AND FILTER FUNCTION\n",
      "[5, 7, 97, 77, 23, 73, 61]\n"
     ]
    }
   ],
   "source": [
    "li = [5, 7, 22, 97, 54, 62, 77, 23, 73, 61]\n",
    "print (f'Given list is : {li}')\n",
    "print (f'Odd Numbers using LAMBDA AND FILTER FUNCTION')\n",
    "\n",
    "result = filter (lambda i : i % 2 != 0, li)\n",
    "print (list (result))\n"
   ]
  },
  {
   "cell_type": "raw",
   "metadata": {},
   "source": [
    "Q10: Write a UDF to return the descriptives [sum, count, min, mean, max] for a list of n number of input \n",
    "    numbers."
   ]
  },
  {
   "cell_type": "code",
   "execution_count": 21,
   "metadata": {},
   "outputs": [
    {
     "name": "stdout",
     "output_type": "stream",
     "text": [
      "Enter numbers using space button : 1 2 5 8 333 54 54\n",
      "{'Sum of numbers': 457.0, 'Count of numbers': 7, 'Minimum of numbers': 1.0, 'Maximum of numbers': 333.0, 'Mean of numbers': 65.28571428571429}\n"
     ]
    }
   ],
   "source": [
    "def udf2 (a):\n",
    "    total_sum = sum(a)\n",
    "    count = len(a)\n",
    "    minimum = min(a)\n",
    "    maximum = max(a)\n",
    "    mean = total_sum/count\n",
    "    \n",
    "    descriptives = {\n",
    "        'Sum of numbers' : total_sum , \n",
    "        'Count of numbers' : count , \n",
    "        'Minimum of numbers' : minimum , \n",
    "        'Maximum of numbers' : maximum , \n",
    "        'Mean of numbers' : mean , \n",
    "    }\n",
    "    \n",
    "    return descriptives\n",
    "\n",
    "x = input (\"Enter numbers using space button : \")\n",
    "x = [float(i) for i in x.split()]\n",
    "\n",
    "print (udf2 (x))"
   ]
  },
  {
   "cell_type": "raw",
   "metadata": {},
   "source": [
    "Q11: Write an udf to calculate the area of different shapes\n",
    "\n",
    "Take shape and dimensions as arguments to udf as follows : \n",
    "\n",
    "1. square which has side\n",
    "2. rectangle which has length and width\n",
    "3. circle which has radius\n",
    "\n",
    "The shape should be a positional argument and it's dimensions are taken as kwargs\n",
    "\n",
    "Perform proper validation for the user inputs and then calculate area.\n",
    "\n",
    "E.g. if shape is square, ensure kwargs has \"side\" and if so, then you may return the area, else display appropriate error message like \"Please enter 'side' for a square\""
   ]
  },
  {
   "cell_type": "code",
   "execution_count": 22,
   "metadata": {},
   "outputs": [],
   "source": [
    "import math\n",
    "\n",
    "def udf3 (shape,**dimension):\n",
    "    shape = shape.lower()\n",
    "    \n",
    "    if shape == 'square':\n",
    "        if 'side' in dimension:\n",
    "            side = dimension['side']\n",
    "            if isinstance(side,(int,float)) and side > 0:\n",
    "                area = side ** 2\n",
    "                return area\n",
    "            else :\n",
    "                return \"Side should be a positive number\"\n",
    "        else :\n",
    "            return \"Please Enter side of Square\"\n",
    "        \n",
    "    elif shape == 'rectangle' :\n",
    "        if 'length' in dimension and 'width' in dimension:\n",
    "            length = dimension['length']\n",
    "            width = dimension['width']\n",
    "            if isinstance(length,(int,float)) and isinstance(width,(int,float)) and length > 0 and width > 0:\n",
    "                area = length * width\n",
    "                return area\n",
    "            else :\n",
    "                return \"Length and Width should be positive number\"\n",
    "        else:\n",
    "            return \"Please Enter length and width of the rectangle\"\n",
    "            \n",
    "    elif shape == 'circle':\n",
    "        if 'radius' in dimension:\n",
    "            radius = dimension['radius']\n",
    "            if isinstance(radius, (int, float)) and radius > 0:\n",
    "                area = math.pi * (radius ** 2)\n",
    "                return area\n",
    "            else :\n",
    "                return \"Radius should be a positive number\"                \n",
    "        else :\n",
    "            return \"Please enter Radius of Circle\"\n",
    "        \n",
    "    else :\n",
    "        return \"Unsupported Shape\"\n",
    "        "
   ]
  },
  {
   "cell_type": "code",
   "execution_count": 23,
   "metadata": {},
   "outputs": [
    {
     "name": "stdout",
     "output_type": "stream",
     "text": [
      "9\n",
      "20\n",
      "Please enter Radius of Circle\n"
     ]
    }
   ],
   "source": [
    "x = udf3 ('square',side = 3)\n",
    "print (x)\n",
    "\n",
    "y = udf3 ('rectangle', length = 4 , width = 5)\n",
    "print (y)\n",
    "\n",
    "z= udf3 ('circle')\n",
    "print (z)\n"
   ]
  },
  {
   "cell_type": "raw",
   "metadata": {},
   "source": [
    "Q12: Write a UDF to reconcile the values within two lists.\n",
    "    l1 = ['January', 'February', 'March', 'May', 'June', 'September', 'December']\n",
    "    l2 = ['January', 'February', 'April', 'June', 'October', 'December']\n",
    "\n",
    "Hint:\n",
    "-----\n",
    "def func(l1, l2):\n",
    "    your code here...\n",
    "    \n",
    "Output:\n",
    "{'Matched': ['January', 'February', 'June', 'December'],\n",
    "    'Only in l1': ['March', 'May', 'September'],\n",
    "        'Only in l2': ['April', 'October']}"
   ]
  },
  {
   "cell_type": "code",
   "execution_count": 24,
   "metadata": {},
   "outputs": [
    {
     "name": "stdout",
     "output_type": "stream",
     "text": [
      "Matched: ['June', 'December', 'February', 'January']\n",
      "only in l1: ['May', 'September', 'March']\n",
      "only in l2: ['October', 'April']\n"
     ]
    }
   ],
   "source": [
    "def udf4 (l1,l2):   \n",
    "    l11 = set(l1)\n",
    "    l22 = set(l2)\n",
    "    \n",
    "    matched = list(l22.intersection(l11))\n",
    "    only_in_l1 = list(l11.difference(l22))\n",
    "    only_in_l2 = list(l22.difference(l11))\n",
    "    \n",
    "    result = {\n",
    "        'Matched' : matched ,\n",
    "            'only in l1' : only_in_l1 ,\n",
    "                'only in l2' : only_in_l2\n",
    "    } \n",
    "    \n",
    "    formatted_output = \"\\n\".join([f\"{key}: {value}\" for key, value in result.items()])\n",
    "    \n",
    "    return (formatted_output)\n",
    "\n",
    "l1 = ['January', 'February', 'March', 'May', 'June', 'September', 'December']\n",
    "l2 = ['January', 'February', 'April', 'June', 'October', 'December']\n",
    "\n",
    "print (udf4 (l1,l2))"
   ]
  },
  {
   "cell_type": "raw",
   "metadata": {
    "collapsed": true,
    "jupyter": {
     "outputs_hidden": true
    }
   },
   "source": [
    "Q13: write a UDF to check if a number is prime or not."
   ]
  },
  {
   "cell_type": "code",
   "execution_count": 25,
   "metadata": {},
   "outputs": [
    {
     "name": "stdout",
     "output_type": "stream",
     "text": [
      "We will check if the number is prime or not. \n",
      "Enter a number :  98\n",
      "98 is not a prime number\n"
     ]
    }
   ],
   "source": [
    "x = int (input (\"\"\"We will check if the number is prime or not. \n",
    "Enter a number :  \"\"\"))\n",
    "\n",
    "a = False\n",
    "for i in range (2, x):\n",
    "    if (x % i) == 0:\n",
    "        a = True\n",
    "        break\n",
    "if a:\n",
    "    print (x , \"is not a prime number\")\n",
    "elif x == 1:\n",
    "    print (x, \"is not a prime number\")\n",
    "else :\n",
    "    print (x, \"is a prime number\")"
   ]
  },
  {
   "cell_type": "raw",
   "metadata": {
    "collapsed": true,
    "jupyter": {
     "outputs_hidden": true
    }
   },
   "source": [
    "Q14. Write a program which can compute the factorial of a given numbers. \n",
    "#   The results should be printed in a comma-separated sequence on a single line. \n",
    "# input() function can be used for getting user(console) input\n",
    "\n",
    "\n",
    "#Suppose the input is supplied to the program:  8  \n",
    "#Then, the output should be:  40320 \n",
    "#Hints: In case of input data being supplied to the question, it should be assumed to be a console input. \n"
   ]
  },
  {
   "cell_type": "code",
   "execution_count": 26,
   "metadata": {},
   "outputs": [
    {
     "name": "stdout",
     "output_type": "stream",
     "text": [
      "Enter the number you want to find the factorial of : 65\n"
     ]
    },
    {
     "data": {
      "text/plain": [
       "8247650592082470666723170306785496252186258551345437492922123134388955774976000000000000000"
      ]
     },
     "execution_count": 26,
     "metadata": {},
     "output_type": "execute_result"
    }
   ],
   "source": [
    "x = int (input (\"Enter the number you want to find the factorial of : \"))\n",
    "\n",
    "fact = 1\n",
    "for i in range (1,x+1):\n",
    "    fact = i * fact\n",
    "    \n",
    "fact"
   ]
  },
  {
   "cell_type": "raw",
   "metadata": {
    "collapsed": true,
    "jupyter": {
     "outputs_hidden": true
    }
   },
   "source": [
    "Q15. With a given integral number n, write a program to generate a dictionary that contains (i, i*i) such that is an integral number between 1 and n (both included). and then the program should print the dictionary.\n",
    "\n",
    "#Suppose the following input is supplied to the program: 8\n",
    "#Then, the output should be: {1: 1, 2: 4, 3: 9, 4: 16, 5: 25, 6: 36, 7: 49, 8: 64}\n",
    "#Hints: In case of input data being supplied to the question, it should be assumed to be a console input. Consider using dict()\n",
    "\n"
   ]
  },
  {
   "cell_type": "code",
   "execution_count": 27,
   "metadata": {},
   "outputs": [
    {
     "name": "stdout",
     "output_type": "stream",
     "text": [
      "Enter a number : 8\n"
     ]
    },
    {
     "data": {
      "text/plain": [
       "{1: 1, 2: 4, 3: 9, 4: 16, 5: 25, 6: 36, 7: 49, 8: 64}"
      ]
     },
     "execution_count": 27,
     "metadata": {},
     "output_type": "execute_result"
    }
   ],
   "source": [
    "x = int (input (\"Enter a number : \"))\n",
    "\n",
    "{i : i*i for i in range (1,x+1)}"
   ]
  },
  {
   "cell_type": "raw",
   "metadata": {
    "collapsed": true,
    "jupyter": {
     "outputs_hidden": true
    }
   },
   "source": [
    "Q16. Write a program which accepts a sequence of comma-separated numbers from console and generate a list and a tuple which contains every number.\n",
    "#Suppose the following input is supplied to the program: 34,67,55,33,12,98\n",
    "    #Then, the output should be: ['34', '67', '55', '33', '12', '98'] ('34', '67', '55', '33', '12', '98')\n",
    "\n",
    "#Hints: In case of input data being supplied to the question, it should be assumed to be a console input. you may use tuple() method to convert list to tuple\n"
   ]
  },
  {
   "cell_type": "code",
   "execution_count": 28,
   "metadata": {},
   "outputs": [
    {
     "name": "stdout",
     "output_type": "stream",
     "text": [
      "Enter sequence of numbers using comma 34,67,55,33,12,98\n",
      "['34', '67', '55', '33', '12', '98']\n",
      "('34', '67', '55', '33', '12', '98')\n"
     ]
    }
   ],
   "source": [
    "x = input(\"Enter sequence of numbers using comma \")\n",
    "print (x.split(','))\n",
    "print (tuple(x.split(',')))"
   ]
  },
  {
   "cell_type": "raw",
   "metadata": {
    "collapsed": true,
    "jupyter": {
     "outputs_hidden": true
    }
   },
   "source": [
    "Q17. Write a program that accepts a comma separated sequence of words as input and \n",
    "# prints the words in a comma-separated sequence after sorting them alphabetically.\n",
    "\n",
    "# Suppose the following input is supplied to the program: without,hello,bag,world\n",
    "# Then, the output should be: bag,hello,without,world\n",
    "\n",
    "#Hints: In case of input data being supplied to the question, it should be assumed to be a console input.\n"
   ]
  },
  {
   "cell_type": "code",
   "execution_count": 29,
   "metadata": {},
   "outputs": [
    {
     "name": "stdout",
     "output_type": "stream",
     "text": [
      "Enter sequence of words using comma without,hello,bag,world\n",
      "bag,hello,without,world\n"
     ]
    }
   ],
   "source": [
    "x = input (\"Enter sequence of words using comma \")\n",
    "print (','.join(sorted(x.split(','))))"
   ]
  },
  {
   "cell_type": "raw",
   "metadata": {
    "collapsed": true,
    "jupyter": {
     "outputs_hidden": true
    }
   },
   "source": [
    "Q18. Write a program that accepts a sequence of whitespace separated words \n",
    "# as input and prints the words after removing all duplicate words and sorting them alphanumerically.\n",
    "# Suppose the following input is supplied to the program: hello world and practice makes perfect and hello world again\n",
    "# Then, the output should be: again and hello makes perfect practice world\n",
    "\n",
    "#Hints: In case of input data being supplied to the question, it should be assumed to be a console input.\n",
    "#We use set container to remove duplicated data automatically and then use sorted() to sort the data.\n"
   ]
  },
  {
   "cell_type": "code",
   "execution_count": 30,
   "metadata": {},
   "outputs": [
    {
     "name": "stdout",
     "output_type": "stream",
     "text": [
      "Enter a sentencehello world and practice makes perfect and hello world again\n",
      "again and hello makes perfect practice world\n"
     ]
    }
   ],
   "source": [
    "x = input (\"Enter a sentence\")\n",
    "\n",
    "print (\" \".join(sorted(set(x.split()))))"
   ]
  },
  {
   "cell_type": "raw",
   "metadata": {
    "collapsed": true,
    "jupyter": {
     "outputs_hidden": true
    }
   },
   "source": [
    "Q19. Write a program that accepts a sentence and calculate the number of upper case \n",
    "# letters and lower case letters.\n",
    "#Suppose the following input is supplied to the program: Hello world!\n",
    "#Then, the output should be: UPPER CASE 1 LOWER CASE 9\n",
    "\n",
    "#Hints: In case of input data being supplied to the question, it should be assumed to be a console input.\n"
   ]
  },
  {
   "cell_type": "code",
   "execution_count": 31,
   "metadata": {},
   "outputs": [
    {
     "name": "stdout",
     "output_type": "stream",
     "text": [
      "We will calculate number of UpperCase and LowerCase in Sentence. Enter a sentence : Dncjehe mkjfhFDGG\n",
      "UPPER CASE 5 LOWER CASE 11\n"
     ]
    }
   ],
   "source": [
    "x = input (\"We will calculate number of UpperCase and LowerCase in Sentence. Enter a sentence : \")\n",
    "\n",
    "upper_count = 0\n",
    "lower_count = 0\n",
    "\n",
    "for i in x:\n",
    "    if i.isupper():\n",
    "        upper_count += 1\n",
    "        \n",
    "    elif i.islower():\n",
    "        lower_count += 1\n",
    "        \n",
    "print (f'UPPER CASE {upper_count} LOWER CASE {lower_count}')"
   ]
  },
  {
   "cell_type": "raw",
   "metadata": {
    "collapsed": true,
    "jupyter": {
     "outputs_hidden": true
    }
   },
   "source": [
    "Q20. Write a program that takes a string and returns reversed string. i.e. if input is \"abcd123\" output should be \"321dcba\""
   ]
  },
  {
   "cell_type": "code",
   "execution_count": 32,
   "metadata": {},
   "outputs": [
    {
     "name": "stdout",
     "output_type": "stream",
     "text": [
      "Enter a string : \"abcd123\"\n",
      "\"321dcba\"\n"
     ]
    }
   ],
   "source": [
    "x = input (\"Enter a string : \")\n",
    "print (x[::-1])"
   ]
  }
 ],
 "metadata": {
  "hide_input": false,
  "kernelspec": {
   "display_name": "Python 3 (ipykernel)",
   "language": "python",
   "name": "python3"
  },
  "language_info": {
   "codemirror_mode": {
    "name": "ipython",
    "version": 3
   },
   "file_extension": ".py",
   "mimetype": "text/x-python",
   "name": "python",
   "nbconvert_exporter": "python",
   "pygments_lexer": "ipython3",
   "version": "3.11.7"
  },
  "toc": {
   "base_numbering": 1,
   "nav_menu": {},
   "number_sections": true,
   "sideBar": true,
   "skip_h1_title": false,
   "title_cell": "Table of Contents",
   "title_sidebar": "Contents",
   "toc_cell": false,
   "toc_position": {},
   "toc_section_display": true,
   "toc_window_display": false
  },
  "varInspector": {
   "cols": {
    "lenName": 16,
    "lenType": 16,
    "lenVar": 40
   },
   "kernels_config": {
    "python": {
     "delete_cmd_postfix": "",
     "delete_cmd_prefix": "del ",
     "library": "var_list.py",
     "varRefreshCmd": "print(var_dic_list())"
    },
    "r": {
     "delete_cmd_postfix": ") ",
     "delete_cmd_prefix": "rm(",
     "library": "var_list.r",
     "varRefreshCmd": "cat(var_dic_list()) "
    }
   },
   "types_to_exclude": [
    "module",
    "function",
    "builtin_function_or_method",
    "instance",
    "_Feature"
   ],
   "window_display": false
  }
 },
 "nbformat": 4,
 "nbformat_minor": 4
}
